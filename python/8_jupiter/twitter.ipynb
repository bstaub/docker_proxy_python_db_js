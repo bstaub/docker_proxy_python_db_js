{
 "cells": [
  {
   "cell_type": "markdown",
   "metadata": {},
   "source": [
    "# This is my Twitter App\n",
    "\n",
    "![Twitter image](https://upload.wikimedia.org/wikipedia/en/9/9f/Twitter_bird_logo_2012.svg)"
   ]
  },
  {
   "cell_type": "code",
   "execution_count": 8,
   "metadata": {},
   "outputs": [
    {
     "name": "stdout",
     "output_type": "stream",
     "text": [
      "Enter your name sir, madam: \n",
      "Hussein\n"
     ]
    }
   ],
   "source": [
    "print(\"Enter your name sir, madam: \")\n",
    "name = input()\n"
   ]
  },
  {
   "cell_type": "code",
   "execution_count": 9,
   "metadata": {},
   "outputs": [
    {
     "name": "stdout",
     "output_type": "stream",
     "text": [
      "Hello! Hussein\n"
     ]
    }
   ],
   "source": [
    "print(f\"Hello! {name}\")"
   ]
  },
  {
   "cell_type": "code",
   "execution_count": 10,
   "metadata": {},
   "outputs": [
    {
     "name": "stdout",
     "output_type": "stream",
     "text": [
      "Enter your tweet: (-1 to exit)\n",
      "Tweet1\n",
      "Enter your tweet: (-1 to exit)\n",
      "tweet2\n",
      "Enter your tweet: (-1 to exit)\n",
      "second\n",
      "Enter your tweet: (-1 to exit)\n",
      "third\n",
      "Enter your tweet: (-1 to exit)\n",
      "last\n",
      "Enter your tweet: (-1 to exit)\n",
      "-1\n"
     ]
    }
   ],
   "source": [
    "tweets = [\"ID\", \"Tweet\"]\n",
    "tweetcount = 0\n",
    "while (True):\n",
    "    print(\"Enter your tweet: (-1 to exit)\")\n",
    "    tweet = input()\n",
    "    if (tweet == \"-1\"):\n",
    "        break\n",
    "    tweetcount = tweetcount + 1\n",
    "    tweets.append([tweetcount, tweet])\n",
    "    \n"
   ]
  },
  {
   "cell_type": "code",
   "execution_count": 11,
   "metadata": {},
   "outputs": [
    {
     "name": "stdout",
     "output_type": "stream",
     "text": [
      "ID\n",
      "Tweet\n",
      "[1, 'Tweet1']\n",
      "[2, 'tweet2']\n",
      "[3, 'second']\n",
      "[4, 'third']\n",
      "[5, 'last']\n"
     ]
    }
   ],
   "source": [
    "for t in tweets:\n",
    "    print(t)"
   ]
  },
  {
   "cell_type": "code",
   "execution_count": 12,
   "metadata": {},
   "outputs": [
    {
     "name": "stdout",
     "output_type": "stream",
     "text": [
      "Collecting tabulate\n",
      "  Using cached https://files.pythonhosted.org/packages/12/c2/11d6845db5edf1295bc08b2f488cf5937806586afe42936c3f34c097ebdc/tabulate-0.8.2.tar.gz\n",
      "Installing collected packages: tabulate\n",
      "  Running setup.py install for tabulate ... \u001b[?25ldone\n",
      "\u001b[?25hSuccessfully installed tabulate-0.8.2\n"
     ]
    }
   ],
   "source": [
    "!pip install tabulate"
   ]
  },
  {
   "cell_type": "code",
   "execution_count": 13,
   "metadata": {},
   "outputs": [
    {
     "data": {
      "text/html": [
       "<table>\n",
       "<tbody>\n",
       "<tr><td>I</td><td>D     </td><td> </td><td> </td><td> </td></tr>\n",
       "<tr><td>T</td><td>w     </td><td>e</td><td>e</td><td>t</td></tr>\n",
       "<tr><td>1</td><td>Tweet1</td><td> </td><td> </td><td> </td></tr>\n",
       "<tr><td>2</td><td>tweet2</td><td> </td><td> </td><td> </td></tr>\n",
       "<tr><td>3</td><td>second</td><td> </td><td> </td><td> </td></tr>\n",
       "<tr><td>4</td><td>third </td><td> </td><td> </td><td> </td></tr>\n",
       "<tr><td>5</td><td>last  </td><td> </td><td> </td><td> </td></tr>\n",
       "</tbody>\n",
       "</table>"
      ],
      "text/plain": [
       "<IPython.core.display.HTML object>"
      ]
     },
     "metadata": {},
     "output_type": "display_data"
    }
   ],
   "source": [
    "from IPython.display import HTML, display\n",
    "import tabulate\n",
    "\n",
    "display(HTML(tabulate.tabulate(tweets, tablefmt=\"html\") ))"
   ]
  },
  {
   "cell_type": "code",
   "execution_count": null,
   "metadata": {},
   "outputs": [],
   "source": []
  }
 ],
 "metadata": {
  "kernelspec": {
   "display_name": "Python 3",
   "language": "python",
   "name": "python3"
  },
  "language_info": {
   "codemirror_mode": {
    "name": "ipython",
    "version": 3
   },
   "file_extension": ".py",
   "mimetype": "text/x-python",
   "name": "python",
   "nbconvert_exporter": "python",
   "pygments_lexer": "ipython3",
   "version": "3.7.1"
  }
 },
 "nbformat": 4,
 "nbformat_minor": 2
}
